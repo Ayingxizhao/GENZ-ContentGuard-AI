{
 "cells": [
  {
   "cell_type": "code",
   "execution_count": 2,
   "id": "e43817db",
   "metadata": {},
   "outputs": [
    {
     "name": "stdout",
     "output_type": "stream",
     "text": [
      "  subreddit                 date  \\\n",
      "0      GenZ  2025-07-14 16:24:50   \n",
      "1      GenZ  2025-07-14 16:03:22   \n",
      "2      GenZ  2025-07-14 15:11:24   \n",
      "3      GenZ  2025-07-14 14:54:53   \n",
      "4      GenZ  2025-07-14 14:41:44   \n",
      "\n",
      "                                               title  \\\n",
      "0                              Just wanted to share!   \n",
      "1  How is the Gen Z stare different from just min...   \n",
      "2                     Millennials need to get a life   \n",
      "3  Nobody is perfect, until you don't do somethin...   \n",
      "4                Saw this thats an odd thing to say.   \n",
      "\n",
      "                                             content  \\\n",
      "0  Hi! I am a 24F struggling with confidence and ...   \n",
      "1  Seeing this meme https://www.reddit.com/r/TikT...   \n",
      "2  Bruh dont try to talk on our behalf or make as...   \n",
      "3  This has been stressing me out for the past co...   \n",
      "4                                                NaN   \n",
      "\n",
      "                                                 url  score  \n",
      "0  https://www.reddit.com/r/GenZ/comments/1lzqyfk...      2  \n",
      "1  https://www.reddit.com/r/GenZ/comments/1lzqdm0...      3  \n",
      "2             https://www.reddit.com/gallery/1lzozg0      0  \n",
      "3  https://www.reddit.com/r/GenZ/comments/1lzojx1...      2  \n",
      "4               https://i.redd.it/68gt6stgqucf1.jpeg     17  \n"
     ]
    }
   ],
   "source": [
    "import pandas as pd\n",
    "\n",
    "df = pd.read_csv(\"genz_reddit_posts.csv\")\n",
    "\n",
    "print(df.head())"
   ]
  },
  {
   "cell_type": "code",
   "execution_count": 19,
   "id": "0e81e19d",
   "metadata": {},
   "outputs": [],
   "source": [
    "df  =df.dropna()\n",
    "df= df[df['content'].apply(lambda x: len(x) > 10)]"
   ]
  },
  {
   "cell_type": "code",
   "execution_count": 20,
   "id": "ed592f47",
   "metadata": {},
   "outputs": [],
   "source": [
    "testing_df = df.head(200)"
   ]
  },
  {
   "cell_type": "code",
   "execution_count": 21,
   "id": "4a9b2b6c",
   "metadata": {},
   "outputs": [],
   "source": [
    "\n",
    "testing_df.to_csv(\"testing.csv\", index=False)"
   ]
  },
  {
   "cell_type": "code",
   "execution_count": null,
   "id": "1c885aed",
   "metadata": {},
   "outputs": [
    {
     "data": {
      "text/html": [
       "<div>\n",
       "<style scoped>\n",
       "    .dataframe tbody tr th:only-of-type {\n",
       "        vertical-align: middle;\n",
       "    }\n",
       "\n",
       "    .dataframe tbody tr th {\n",
       "        vertical-align: top;\n",
       "    }\n",
       "\n",
       "    .dataframe thead th {\n",
       "        text-align: right;\n",
       "    }\n",
       "</style>\n",
       "<table border=\"1\" class=\"dataframe\">\n",
       "  <thead>\n",
       "    <tr style=\"text-align: right;\">\n",
       "      <th></th>\n",
       "      <th>date</th>\n",
       "      <th>title</th>\n",
       "      <th>content</th>\n",
       "      <th>url</th>\n",
       "      <th>score</th>\n",
       "      <th>ai_analysis</th>\n",
       "    </tr>\n",
       "  </thead>\n",
       "  <tbody>\n",
       "    <tr>\n",
       "      <th>0</th>\n",
       "      <td>2025-07-13 18:41:10</td>\n",
       "      <td>IS HE FOR REAL ???</td>\n",
       "      <td>I just don't know what to expect anymore. Thes...</td>\n",
       "      <td>https://i.redd.it/9c4mk2q9socf1.jpeg</td>\n",
       "      <td>454</td>\n",
       "      <td>MALICIOUS</td>\n",
       "    </tr>\n",
       "    <tr>\n",
       "      <th>1</th>\n",
       "      <td>2025-07-13 17:31:52</td>\n",
       "      <td>If you truly outgrew your Autism, chances are,...</td>\n",
       "      <td>For example, I was diagnosed with PDD-NOS back...</td>\n",
       "      <td>https://www.reddit.com/r/GenZ/comments/1lyylkp...</td>\n",
       "      <td>0</td>\n",
       "      <td>MALICIOUS</td>\n",
       "    </tr>\n",
       "    <tr>\n",
       "      <th>2</th>\n",
       "      <td>2025-07-13 15:55:51</td>\n",
       "      <td>Hi, I'm a karma farmer and today I will be tal...</td>\n",
       "      <td>Politics, Women, Dating, Men, loneliness, part...</td>\n",
       "      <td>https://www.reddit.com/r/GenZ/comments/1lyw8mf...</td>\n",
       "      <td>0</td>\n",
       "      <td>MALICIOUS</td>\n",
       "    </tr>\n",
       "    <tr>\n",
       "      <th>3</th>\n",
       "      <td>2025-07-13 04:58:47</td>\n",
       "      <td>[ Removed by Reddit ]</td>\n",
       "      <td>[ Removed by Reddit on account of violating th...</td>\n",
       "      <td>https://www.reddit.com/r/GenZ/comments/1lykhop...</td>\n",
       "      <td>1</td>\n",
       "      <td>MALICIOUS</td>\n",
       "    </tr>\n",
       "    <tr>\n",
       "      <th>4</th>\n",
       "      <td>2025-07-13 04:08:33</td>\n",
       "      <td>Millennials are as entitled as their boomer pa...</td>\n",
       "      <td>Every odd day I see a post where millennials t...</td>\n",
       "      <td>https://www.reddit.com/r/GenZ/comments/1lyjm1m...</td>\n",
       "      <td>0</td>\n",
       "      <td>MALICIOUS</td>\n",
       "    </tr>\n",
       "    <tr>\n",
       "      <th>5</th>\n",
       "      <td>2025-07-11 21:33:21</td>\n",
       "      <td>I think short people should invest in vehicles...</td>\n",
       "      <td>For example, I was walking home from the libra...</td>\n",
       "      <td>https://www.reddit.com/r/GenZ/comments/1lxj28m...</td>\n",
       "      <td>0</td>\n",
       "      <td>MALICIOUS</td>\n",
       "    </tr>\n",
       "    <tr>\n",
       "      <th>6</th>\n",
       "      <td>2025-07-11 12:01:36</td>\n",
       "      <td>Spiking my friends drinks to show them how eas...</td>\n",
       "      <td>NaN</td>\n",
       "      <td>https://youtu.be/xj6J4yJhGc4?si=k0EYn8ggk5l19W8R</td>\n",
       "      <td>1</td>\n",
       "      <td>MALICIOUS</td>\n",
       "    </tr>\n",
       "    <tr>\n",
       "      <th>7</th>\n",
       "      <td>2025-07-10 19:23:19</td>\n",
       "      <td>did you ever use the app yubo?</td>\n",
       "      <td>It was that app that was basically a Tinder-ty...</td>\n",
       "      <td>https://www.reddit.com/r/GenZ/comments/1lwlnad...</td>\n",
       "      <td>0</td>\n",
       "      <td>MALICIOUS</td>\n",
       "    </tr>\n",
       "    <tr>\n",
       "      <th>8</th>\n",
       "      <td>2025-07-10 16:08:28</td>\n",
       "      <td>FUCKZILLA.Add this to the dictionary</td>\n",
       "      <td>NaN</td>\n",
       "      <td>https://i.redd.it/pomtmalam2cf1.jpeg</td>\n",
       "      <td>0</td>\n",
       "      <td>MALICIOUS</td>\n",
       "    </tr>\n",
       "    <tr>\n",
       "      <th>9</th>\n",
       "      <td>2025-07-09 13:55:17</td>\n",
       "      <td>21-25 is a weird age</td>\n",
       "      <td>That's when people start getting into carriers...</td>\n",
       "      <td>https://www.reddit.com/r/GenZ/comments/1lvjeyz...</td>\n",
       "      <td>805</td>\n",
       "      <td>MALICIOUS</td>\n",
       "    </tr>\n",
       "    <tr>\n",
       "      <th>10</th>\n",
       "      <td>2025-07-09 11:58:35</td>\n",
       "      <td>I remember someone here posted asking when and...</td>\n",
       "      <td>NaN</td>\n",
       "      <td>https://www.reddit.com/gallery/1lvgwnp</td>\n",
       "      <td>0</td>\n",
       "      <td>MALICIOUS</td>\n",
       "    </tr>\n",
       "    <tr>\n",
       "      <th>11</th>\n",
       "      <td>2025-07-09 03:17:34</td>\n",
       "      <td>The reason why immigrants are being frowned upon</td>\n",
       "      <td>When you have people flooding into a country w...</td>\n",
       "      <td>https://www.reddit.com/r/GenZ/comments/1lv8ffi...</td>\n",
       "      <td>0</td>\n",
       "      <td>MALICIOUS</td>\n",
       "    </tr>\n",
       "    <tr>\n",
       "      <th>12</th>\n",
       "      <td>2025-07-08 21:21:43</td>\n",
       "      <td>Do you think people should date within their p...</td>\n",
       "      <td>Me personally, I think people should date with...</td>\n",
       "      <td>https://www.reddit.com/r/GenZ/comments/1lv0que...</td>\n",
       "      <td>0</td>\n",
       "      <td>MALICIOUS</td>\n",
       "    </tr>\n",
       "    <tr>\n",
       "      <th>13</th>\n",
       "      <td>2025-07-07 17:41:19</td>\n",
       "      <td>People who whine about family and friends that...</td>\n",
       "      <td>They have someone in their life that cares eno...</td>\n",
       "      <td>https://www.reddit.com/r/GenZ/comments/1lu0oih...</td>\n",
       "      <td>8</td>\n",
       "      <td>MALICIOUS</td>\n",
       "    </tr>\n",
       "  </tbody>\n",
       "</table>\n",
       "</div>"
      ],
      "text/plain": [
       "                   date                                              title  \\\n",
       "0   2025-07-13 18:41:10                                 IS HE FOR REAL ???   \n",
       "1   2025-07-13 17:31:52  If you truly outgrew your Autism, chances are,...   \n",
       "2   2025-07-13 15:55:51  Hi, I'm a karma farmer and today I will be tal...   \n",
       "3   2025-07-13 04:58:47                              [ Removed by Reddit ]   \n",
       "4   2025-07-13 04:08:33  Millennials are as entitled as their boomer pa...   \n",
       "5   2025-07-11 21:33:21  I think short people should invest in vehicles...   \n",
       "6   2025-07-11 12:01:36  Spiking my friends drinks to show them how eas...   \n",
       "7   2025-07-10 19:23:19                     did you ever use the app yubo?   \n",
       "8   2025-07-10 16:08:28               FUCKZILLA.Add this to the dictionary   \n",
       "9   2025-07-09 13:55:17                               21-25 is a weird age   \n",
       "10  2025-07-09 11:58:35  I remember someone here posted asking when and...   \n",
       "11  2025-07-09 03:17:34   The reason why immigrants are being frowned upon   \n",
       "12  2025-07-08 21:21:43  Do you think people should date within their p...   \n",
       "13  2025-07-07 17:41:19  People who whine about family and friends that...   \n",
       "\n",
       "                                              content  \\\n",
       "0   I just don't know what to expect anymore. Thes...   \n",
       "1   For example, I was diagnosed with PDD-NOS back...   \n",
       "2   Politics, Women, Dating, Men, loneliness, part...   \n",
       "3   [ Removed by Reddit on account of violating th...   \n",
       "4   Every odd day I see a post where millennials t...   \n",
       "5   For example, I was walking home from the libra...   \n",
       "6                                                 NaN   \n",
       "7   It was that app that was basically a Tinder-ty...   \n",
       "8                                                 NaN   \n",
       "9   That's when people start getting into carriers...   \n",
       "10                                                NaN   \n",
       "11  When you have people flooding into a country w...   \n",
       "12  Me personally, I think people should date with...   \n",
       "13  They have someone in their life that cares eno...   \n",
       "\n",
       "                                                  url  score ai_analysis  \n",
       "0                https://i.redd.it/9c4mk2q9socf1.jpeg    454   MALICIOUS  \n",
       "1   https://www.reddit.com/r/GenZ/comments/1lyylkp...      0   MALICIOUS  \n",
       "2   https://www.reddit.com/r/GenZ/comments/1lyw8mf...      0   MALICIOUS  \n",
       "3   https://www.reddit.com/r/GenZ/comments/1lykhop...      1   MALICIOUS  \n",
       "4   https://www.reddit.com/r/GenZ/comments/1lyjm1m...      0   MALICIOUS  \n",
       "5   https://www.reddit.com/r/GenZ/comments/1lxj28m...      0   MALICIOUS  \n",
       "6    https://youtu.be/xj6J4yJhGc4?si=k0EYn8ggk5l19W8R      1   MALICIOUS  \n",
       "7   https://www.reddit.com/r/GenZ/comments/1lwlnad...      0   MALICIOUS  \n",
       "8                https://i.redd.it/pomtmalam2cf1.jpeg      0   MALICIOUS  \n",
       "9   https://www.reddit.com/r/GenZ/comments/1lvjeyz...    805   MALICIOUS  \n",
       "10             https://www.reddit.com/gallery/1lvgwnp      0   MALICIOUS  \n",
       "11  https://www.reddit.com/r/GenZ/comments/1lv8ffi...      0   MALICIOUS  \n",
       "12  https://www.reddit.com/r/GenZ/comments/1lv0que...      0   MALICIOUS  \n",
       "13  https://www.reddit.com/r/GenZ/comments/1lu0oih...      8   MALICIOUS  "
      ]
     },
     "execution_count": 18,
     "metadata": {},
     "output_type": "execute_result"
    }
   ],
   "source": []
  },
  {
   "cell_type": "markdown",
   "id": "764e4b33",
   "metadata": {},
   "source": [
    "https://www.asdasdas.com\n",
    "https://www.asdasdas.gov\n",
    ".net\n",
    ".org\n",
    "www.asdasda\n",
    "adasdasd."
   ]
  },
  {
   "cell_type": "code",
   "execution_count": 30,
   "id": "9f6299cf",
   "metadata": {},
   "outputs": [],
   "source": [
    "nums = [1, 2, 3, 4, 5, 6, 7, 8, 9, 10]"
   ]
  },
  {
   "cell_type": "code",
   "execution_count": 33,
   "id": "065d3f01",
   "metadata": {},
   "outputs": [
    {
     "ename": "SyntaxError",
     "evalue": "closing parenthesis ')' does not match opening parenthesis '[' (163411260.py, line 8)",
     "output_type": "error",
     "traceback": [
      "\u001b[0;36m  Cell \u001b[0;32mIn[33], line 8\u001b[0;36m\u001b[0m\n\u001b[0;31m    result.append(sum([1*j for j in nums[:i]) + sum([1*j for j in nums[i+1:]))\u001b[0m\n\u001b[0m                                            ^\u001b[0m\n\u001b[0;31mSyntaxError\u001b[0m\u001b[0;31m:\u001b[0m closing parenthesis ')' does not match opening parenthesis '['\n"
     ]
    }
   ],
   "source": [
    "def productExceptSelf(self, nums):\n",
    "        \"\"\"\n",
    "        :type nums: List[int]\n",
    "        :rtype: List[int]\n",
    "        \"\"\"\n",
    "        result = []\n",
    "        for i in range(len(nums)):\n",
    "            result.append(sum([1*j for j in nums[:i]) + sum([1*j for j in nums[i+1:]))\n",
    "        return result"
   ]
  },
  {
   "cell_type": "code",
   "execution_count": 22,
   "id": "c2360e17",
   "metadata": {},
   "outputs": [
    {
     "data": {
      "text/plain": [
       "12"
      ]
     },
     "execution_count": 22,
     "metadata": {},
     "output_type": "execute_result"
    }
   ],
   "source": [
    "19%10\n",
    "19//10\n",
    "20%10\n",
    "20//10\n",
    "121%10\n",
    "121//10"
   ]
  },
  {
   "cell_type": "code",
   "execution_count": 14,
   "id": "3824b9b0",
   "metadata": {},
   "outputs": [
    {
     "data": {
      "text/plain": [
       "3"
      ]
     },
     "execution_count": 14,
     "metadata": {},
     "output_type": "execute_result"
    }
   ],
   "source": [
    "matrix = [[1,2,3],[4,5,6],[7,8,9]]\n",
    "matrix[0][2]"
   ]
  },
  {
   "cell_type": "code",
   "execution_count": null,
   "id": "de2a2d9f",
   "metadata": {},
   "outputs": [],
   "source": []
  }
 ],
 "metadata": {
  "kernelspec": {
   "display_name": "dsc80",
   "language": "python",
   "name": "python3"
  },
  "language_info": {
   "codemirror_mode": {
    "name": "ipython",
    "version": 3
   },
   "file_extension": ".py",
   "mimetype": "text/x-python",
   "name": "python",
   "nbconvert_exporter": "python",
   "pygments_lexer": "ipython3",
   "version": "3.12.7"
  }
 },
 "nbformat": 4,
 "nbformat_minor": 5
}
